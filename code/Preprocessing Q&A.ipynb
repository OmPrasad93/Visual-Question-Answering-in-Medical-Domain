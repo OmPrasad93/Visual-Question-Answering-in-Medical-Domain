{
 "cells": [
  {
   "cell_type": "code",
   "execution_count": 34,
   "metadata": {},
   "outputs": [],
   "source": [
    "import json \n",
    "import os\n",
    "import collections\n",
    "import tensorflow as tf \n",
    "import re\n",
    "import h5py\n",
    "import argparse\n",
    "import sys \n",
    "import numpy as np \n",
    "import pandas as pd\n",
    "import pickle"
   ]
  },
  {
   "cell_type": "markdown",
   "metadata": {},
   "source": [
    "# Preprocessing for Q/A module"
   ]
  },
  {
   "cell_type": "code",
   "execution_count": 28,
   "metadata": {
    "collapsed": true
   },
   "outputs": [],
   "source": [
    "FLAGS = None\n",
    "BUFFER_TOKENS = ['<NULL>', '<START>', '<END>', '<UNK>']"
   ]
  },
  {
   "cell_type": "code",
   "execution_count": 29,
   "metadata": {
    "collapsed": true
   },
   "outputs": [],
   "source": [
    "def _parse_sentence(s):\n",
    "    s = s.replace('.', '')\n",
    "    s = s.replace(',', '')\n",
    "    s = s.replace('\"', '')\n",
    "    s = s.replace(\"'\", '')\n",
    "    s = s.replace(\"?\", '')\n",
    "    s = s.lower()\n",
    "    s = re.sub(\"\\s\\s+\", \" \", s)\n",
    "    s = s.split(' ')\n",
    "    return s"
   ]
  },
  {
   "cell_type": "code",
   "execution_count": 30,
   "metadata": {},
   "outputs": [],
   "source": [
    "def _create_init_dic(filename):\n",
    "    df=pd.read_csv(filename,header=None)\n",
    "    df=df[[0,1,2,3]]\n",
    "    df.columns = ['SerialNo', 'ImageNo', 'Question','Answer']\n",
    "    df.reset_index()\n",
    "    bool_mat=[]\n",
    "    for i in range(0,len(df)):\n",
    "        bool_mat.append(df['Question'].iloc[i][len(df['Question'].iloc[i])-1]=='?')\n",
    "    df=df[bool_mat]\n",
    "    df['Q_parsed']=[ _parse_sentence(s) for s in df['Question']]\n",
    "    df['A_parsed']=[ _parse_sentence(s) for s in df['Answer']]\n",
    "    return df\n",
    "#Training Dataset\n",
    "dic_df=_create_init_dic(\"/home/it/8sem/AMP/vqa assignment/VQAMed2018Train/VQAMed2018Train-QA.csv\")\n",
    "#Test Dataset\n",
    "dic_v_df=_create_init_dic(\"/home/it/8sem/AMP/vqa assignment/VQAMed2018Valid/VQAMed2018Valid-QA.csv\")"
   ]
  },
  {
   "cell_type": "code",
   "execution_count": 31,
   "metadata": {
    "collapsed": true
   },
   "outputs": [],
   "source": [
    "list_of_all_words=[]\n",
    "for i in range(0,len(dic_df)):\n",
    "    list_of_all_words=list_of_all_words+dic_df['A_parsed'].iloc[i]+dic_df['Q_parsed'].iloc[i]"
   ]
  },
  {
   "cell_type": "code",
   "execution_count": 32,
   "metadata": {},
   "outputs": [],
   "source": [
    "counter = collections.Counter(list_of_all_words)\n",
    "TOTAL_VOCAB=len(counter)\n",
    "vocab = counter.most_common(TOTAL_VOCAB)"
   ]
  },
  {
   "cell_type": "code",
   "execution_count": 33,
   "metadata": {},
   "outputs": [],
   "source": [
    "## create word_to_idx, and idx_to_word\n",
    "vocab = [i[0] for i in vocab]\n",
    "word_to_idx = {}\n",
    "idx_to_word = {}\n",
    "# add in BUFFER_TOKENS\n",
    "for i in range(len(BUFFER_TOKENS)):\n",
    "    idx_to_word[int(i)] = BUFFER_TOKENS[i]\n",
    "    word_to_idx[BUFFER_TOKENS[i]] = i\n",
    "\n",
    "for i in range(len(vocab)):\n",
    "    word_to_idx[vocab[i]] = i + len(BUFFER_TOKENS)\n",
    "    idx_to_word[int(i + len(BUFFER_TOKENS))] = vocab[i]\n"
   ]
  },
  {
   "cell_type": "code",
   "execution_count": null,
   "metadata": {
    "collapsed": true
   },
   "outputs": [],
   "source": [
    "pickle.dump(word_to_idx, open('word_to_idx.pkl', 'wb') )\n",
    "pickle.dump(idx_to_word, open('idx_to_word.pkl', 'wb') )"
   ]
  },
  {
   "cell_type": "code",
   "execution_count": 35,
   "metadata": {
    "collapsed": true
   },
   "outputs": [],
   "source": [
    "PADDING_LEN=17\n",
    "def _convert_sentence_to_numbers(s):\n",
    "    \"\"\"Convert a sentence s (a list of words) to list of numbers using word_to_idx\"\"\"\n",
    "    UNK_IDX = BUFFER_TOKENS.index('<UNK>')\n",
    "    NULL_IDX = BUFFER_TOKENS.index('<NULL>')\n",
    "    END_IDX = BUFFER_TOKENS.index('<END>')\n",
    "    STR_IDX = BUFFER_TOKENS.index('<START>')\n",
    "    s_encoded = [word_to_idx.get(w, UNK_IDX) for w in s]\n",
    "    s_encoded = [STR_IDX] + s_encoded\n",
    "    s_encoded += [END_IDX]\n",
    "    s_encoded += [NULL_IDX] * (PADDING_LEN - 1 - len(s_encoded))\n",
    "    return s_encoded"
   ]
  },
  {
   "cell_type": "code",
   "execution_count": 36,
   "metadata": {},
   "outputs": [
    {
     "name": "stderr",
     "output_type": "stream",
     "text": [
      "/root/anaconda3/lib/python3.6/site-packages/ipykernel_launcher.py:5: SettingWithCopyWarning: \n",
      "A value is trying to be set on a copy of a slice from a DataFrame.\n",
      "Try using .loc[row_indexer,col_indexer] = value instead\n",
      "\n",
      "See the caveats in the documentation: http://pandas.pydata.org/pandas-docs/stable/indexing.html#indexing-view-versus-copy\n",
      "  \"\"\"\n"
     ]
    }
   ],
   "source": [
    "df_final=dic_df\n",
    "all_answers = [_convert_sentence_to_numbers(s) for s in np.array(df_final['A_parsed'])] # list of numbers \n",
    "valid_rows1 = [i for i in range(len(all_answers)) if len(all_answers[i]) == PADDING_LEN-1]\n",
    "df_final=df_final.iloc[valid_rows1,:]\n",
    "df_final['A_Encoded']=[row for row in all_answers if len(row) == PADDING_LEN-1]\n",
    "all_questions = [_convert_sentence_to_numbers(s) for s in np.array(df_final['Q_parsed'])] \n",
    "valid_rows2 = [i for i in range(len(all_questions)) if len(all_questions[i]) == PADDING_LEN-1]\n",
    "df_final=df_final.iloc[valid_rows2,:]\n",
    "df_final['Q_Encoded']=[row for row in all_questions if len(row) == PADDING_LEN-1]"
   ]
  },
  {
   "cell_type": "code",
   "execution_count": 40,
   "metadata": {},
   "outputs": [
    {
     "data": {
      "text/html": [
       "<div>\n",
       "<style>\n",
       "    .dataframe thead tr:only-child th {\n",
       "        text-align: right;\n",
       "    }\n",
       "\n",
       "    .dataframe thead th {\n",
       "        text-align: left;\n",
       "    }\n",
       "\n",
       "    .dataframe tbody tr th {\n",
       "        vertical-align: top;\n",
       "    }\n",
       "</style>\n",
       "<table border=\"1\" class=\"dataframe\">\n",
       "  <thead>\n",
       "    <tr style=\"text-align: right;\">\n",
       "      <th></th>\n",
       "      <th>SerialNo</th>\n",
       "      <th>ImageNo</th>\n",
       "      <th>Question</th>\n",
       "      <th>Answer</th>\n",
       "      <th>Q_parsed</th>\n",
       "      <th>A_parsed</th>\n",
       "      <th>A_Encoded</th>\n",
       "      <th>Q_Encoded</th>\n",
       "    </tr>\n",
       "  </thead>\n",
       "  <tbody>\n",
       "    <tr>\n",
       "      <th>0</th>\n",
       "      <td>1</td>\n",
       "      <td>rjv03401</td>\n",
       "      <td>what does mri show?</td>\n",
       "      <td>lesion at tail of pancreas</td>\n",
       "      <td>[what, does, mri, show]</td>\n",
       "      <td>[lesion, at, tail, of, pancreas]</td>\n",
       "      <td>[1, 26, 35, 272, 6, 129, 2, 0, 0, 0, 0, 0, 0, ...</td>\n",
       "      <td>[1, 5, 7, 15, 9, 2, 0, 0, 0, 0, 0, 0, 0, 0, 0, 0]</td>\n",
       "    </tr>\n",
       "    <tr>\n",
       "      <th>1</th>\n",
       "      <td>2</td>\n",
       "      <td>AIAN-14-313-g002</td>\n",
       "      <td>where does axial section mri abdomen show hypo...</td>\n",
       "      <td>in distal pancreas</td>\n",
       "      <td>[where, does, axial, section, mri, abdomen, sh...</td>\n",
       "      <td>[in, distal, pancreas]</td>\n",
       "      <td>[1, 10, 290, 129, 2, 0, 0, 0, 0, 0, 0, 0, 0, 0...</td>\n",
       "      <td>[1, 25, 7, 23, 54, 15, 31, 9, 886, 19, 2, 0, 0...</td>\n",
       "    </tr>\n",
       "    <tr>\n",
       "      <th>2</th>\n",
       "      <td>3</td>\n",
       "      <td>wjem-11-76f3</td>\n",
       "      <td>what do the arrows denote in the noncontrast c...</td>\n",
       "      <td>complex fluid collection with layering consist...</td>\n",
       "      <td>[what, do, the, arrows, denote, in, the, nonco...</td>\n",
       "      <td>[complex, fluid, collection, with, layering, c...</td>\n",
       "      <td>[1, 492, 76, 93, 16, 3051, 343, 16, 109, 2, 0,...</td>\n",
       "      <td>[1, 5, 84, 4, 354, 3052, 10, 4, 387, 8, 14, 20...</td>\n",
       "    </tr>\n",
       "    <tr>\n",
       "      <th>3</th>\n",
       "      <td>4</td>\n",
       "      <td>ccr30002-0045-f3</td>\n",
       "      <td>what was normal?</td>\n",
       "      <td>blood supply to the brain</td>\n",
       "      <td>[what, was, normal]</td>\n",
       "      <td>[blood, supply, to, the, brain]</td>\n",
       "      <td>[1, 668, 1658, 33, 4, 28, 2, 0, 0, 0, 0, 0, 0,...</td>\n",
       "      <td>[1, 5, 152, 130, 2, 0, 0, 0, 0, 0, 0, 0, 0, 0,...</td>\n",
       "    </tr>\n",
       "    <tr>\n",
       "      <th>4</th>\n",
       "      <td>5</td>\n",
       "      <td>rjt01904</td>\n",
       "      <td>what shows evidence of a contained rupture?</td>\n",
       "      <td>repeat ct scan of the abdomen</td>\n",
       "      <td>[what, shows, evidence, of, a, contained, rupt...</td>\n",
       "      <td>[repeat, ct, scan, of, the, abdomen]</td>\n",
       "      <td>[1, 887, 8, 14, 6, 4, 31, 2, 0, 0, 0, 0, 0, 0,...</td>\n",
       "      <td>[1, 5, 12, 181, 6, 13, 1659, 440, 2, 0, 0, 0, ...</td>\n",
       "    </tr>\n",
       "  </tbody>\n",
       "</table>\n",
       "</div>"
      ],
      "text/plain": [
       "   SerialNo           ImageNo  \\\n",
       "0         1          rjv03401   \n",
       "1         2  AIAN-14-313-g002   \n",
       "2         3      wjem-11-76f3   \n",
       "3         4  ccr30002-0045-f3   \n",
       "4         5          rjt01904   \n",
       "\n",
       "                                            Question  \\\n",
       "0                                what does mri show?   \n",
       "1  where does axial section mri abdomen show hypo...   \n",
       "2  what do the arrows denote in the noncontrast c...   \n",
       "3                                   what was normal?   \n",
       "4        what shows evidence of a contained rupture?   \n",
       "\n",
       "                                              Answer  \\\n",
       "0                         lesion at tail of pancreas   \n",
       "1                                 in distal pancreas   \n",
       "2  complex fluid collection with layering consist...   \n",
       "3                          blood supply to the brain   \n",
       "4                      repeat ct scan of the abdomen   \n",
       "\n",
       "                                            Q_parsed  \\\n",
       "0                            [what, does, mri, show]   \n",
       "1  [where, does, axial, section, mri, abdomen, sh...   \n",
       "2  [what, do, the, arrows, denote, in, the, nonco...   \n",
       "3                                [what, was, normal]   \n",
       "4  [what, shows, evidence, of, a, contained, rupt...   \n",
       "\n",
       "                                            A_parsed  \\\n",
       "0                   [lesion, at, tail, of, pancreas]   \n",
       "1                             [in, distal, pancreas]   \n",
       "2  [complex, fluid, collection, with, layering, c...   \n",
       "3                    [blood, supply, to, the, brain]   \n",
       "4               [repeat, ct, scan, of, the, abdomen]   \n",
       "\n",
       "                                           A_Encoded  \\\n",
       "0  [1, 26, 35, 272, 6, 129, 2, 0, 0, 0, 0, 0, 0, ...   \n",
       "1  [1, 10, 290, 129, 2, 0, 0, 0, 0, 0, 0, 0, 0, 0...   \n",
       "2  [1, 492, 76, 93, 16, 3051, 343, 16, 109, 2, 0,...   \n",
       "3  [1, 668, 1658, 33, 4, 28, 2, 0, 0, 0, 0, 0, 0,...   \n",
       "4  [1, 887, 8, 14, 6, 4, 31, 2, 0, 0, 0, 0, 0, 0,...   \n",
       "\n",
       "                                           Q_Encoded  \n",
       "0  [1, 5, 7, 15, 9, 2, 0, 0, 0, 0, 0, 0, 0, 0, 0, 0]  \n",
       "1  [1, 25, 7, 23, 54, 15, 31, 9, 886, 19, 2, 0, 0...  \n",
       "2  [1, 5, 84, 4, 354, 3052, 10, 4, 387, 8, 14, 20...  \n",
       "3  [1, 5, 152, 130, 2, 0, 0, 0, 0, 0, 0, 0, 0, 0,...  \n",
       "4  [1, 5, 12, 181, 6, 13, 1659, 440, 2, 0, 0, 0, ...  "
      ]
     },
     "execution_count": 40,
     "metadata": {},
     "output_type": "execute_result"
    }
   ],
   "source": [
    "df_final.head()"
   ]
  },
  {
   "cell_type": "code",
   "execution_count": 38,
   "metadata": {
    "collapsed": true
   },
   "outputs": [],
   "source": [
    "df_v_final=dic_v_df\n",
    "all_answers = [_convert_sentence_to_numbers(s) for s in np.array(df_v_final['A_parsed'])] # list of numbers \n",
    "valid_rows3 = [i for i in range(len(all_answers)) if len(all_answers[i]) == PADDING_LEN-1]\n",
    "df_v_final=df_v_final.iloc[valid_rows3,:]\n",
    "df_v_final['A_Encoded']=[row for row in all_answers if len(row) == PADDING_LEN-1]\n",
    "all_questions = [_convert_sentence_to_numbers(s) for s in np.array(df_v_final['Q_parsed'])] \n",
    "valid_rows4 = [i for i in range(len(all_questions)) if len(all_questions[i]) == PADDING_LEN-1]\n",
    "df_v_final=df_v_final.iloc[valid_rows4,:]\n",
    "df_v_final['Q_Encoded']=[row for row in all_questions if len(row) == PADDING_LEN-1]"
   ]
  },
  {
   "cell_type": "code",
   "execution_count": 39,
   "metadata": {},
   "outputs": [
    {
     "data": {
      "text/html": [
       "<div>\n",
       "<style>\n",
       "    .dataframe thead tr:only-child th {\n",
       "        text-align: right;\n",
       "    }\n",
       "\n",
       "    .dataframe thead th {\n",
       "        text-align: left;\n",
       "    }\n",
       "\n",
       "    .dataframe tbody tr th {\n",
       "        vertical-align: top;\n",
       "    }\n",
       "</style>\n",
       "<table border=\"1\" class=\"dataframe\">\n",
       "  <thead>\n",
       "    <tr style=\"text-align: right;\">\n",
       "      <th></th>\n",
       "      <th>SerialNo</th>\n",
       "      <th>ImageNo</th>\n",
       "      <th>Question</th>\n",
       "      <th>Answer</th>\n",
       "      <th>Q_parsed</th>\n",
       "      <th>A_parsed</th>\n",
       "      <th>A_Encoded</th>\n",
       "      <th>Q_Encoded</th>\n",
       "    </tr>\n",
       "  </thead>\n",
       "  <tbody>\n",
       "    <tr>\n",
       "      <th>0</th>\n",
       "      <td>1</td>\n",
       "      <td>ATM-02-80-g002</td>\n",
       "      <td>what does thorax ct show?</td>\n",
       "      <td>regression in the infiltrations</td>\n",
       "      <td>[what, does, thorax, ct, show]</td>\n",
       "      <td>[regression, in, the, infiltrations]</td>\n",
       "      <td>[1, 1032, 10, 4, 2077, 2, 0, 0, 0, 0, 0, 0, 0,...</td>\n",
       "      <td>[1, 5, 7, 125, 8, 9, 2, 0, 0, 0, 0, 0, 0, 0, 0...</td>\n",
       "    </tr>\n",
       "    <tr>\n",
       "      <th>1</th>\n",
       "      <td>2</td>\n",
       "      <td>AJNS-8-48-g001</td>\n",
       "      <td>where does the ct scan show the hematoma?</td>\n",
       "      <td>left parietal area</td>\n",
       "      <td>[where, does, the, ct, scan, show, the, hematoma]</td>\n",
       "      <td>[left, parietal, area]</td>\n",
       "      <td>[1, 18, 216, 86, 2, 0, 0, 0, 0, 0, 0, 0, 0, 0,...</td>\n",
       "      <td>[1, 25, 7, 4, 8, 14, 9, 4, 109, 2, 0, 0, 0, 0,...</td>\n",
       "    </tr>\n",
       "    <tr>\n",
       "      <th>2</th>\n",
       "      <td>3</td>\n",
       "      <td>1477-7819-2-41-1</td>\n",
       "      <td>what does the ct scan show?</td>\n",
       "      <td>a paraesophageal and retrotracheal mass</td>\n",
       "      <td>[what, does, the, ct, scan, show]</td>\n",
       "      <td>[a, paraesophageal, and, retrotracheal, mass]</td>\n",
       "      <td>[1, 13, 1555, 11, 3, 19, 2, 0, 0, 0, 0, 0, 0, ...</td>\n",
       "      <td>[1, 5, 7, 4, 8, 14, 9, 2, 0, 0, 0, 0, 0, 0, 0, 0]</td>\n",
       "    </tr>\n",
       "    <tr>\n",
       "      <th>3</th>\n",
       "      <td>4</td>\n",
       "      <td>iranjradiol-10-99-g001</td>\n",
       "      <td>what does the mri demonstrate?</td>\n",
       "      <td>non mass-like enhancement</td>\n",
       "      <td>[what, does, the, mri, demonstrate]</td>\n",
       "      <td>[non, mass-like, enhancement]</td>\n",
       "      <td>[1, 123, 3, 50, 2, 0, 0, 0, 0, 0, 0, 0, 0, 0, ...</td>\n",
       "      <td>[1, 5, 7, 4, 15, 39, 2, 0, 0, 0, 0, 0, 0, 0, 0...</td>\n",
       "    </tr>\n",
       "    <tr>\n",
       "      <th>4</th>\n",
       "      <td>5</td>\n",
       "      <td>Tanaffos-10-072-g001</td>\n",
       "      <td>what does the ct scan of the chest show?</td>\n",
       "      <td>minimal basilar atelectasis</td>\n",
       "      <td>[what, does, the, ct, scan, of, the, chest, show]</td>\n",
       "      <td>[minimal, basilar, atelectasis]</td>\n",
       "      <td>[1, 578, 705, 1250, 2, 0, 0, 0, 0, 0, 0, 0, 0,...</td>\n",
       "      <td>[1, 5, 7, 4, 8, 14, 6, 4, 38, 9, 2, 0, 0, 0, 0...</td>\n",
       "    </tr>\n",
       "  </tbody>\n",
       "</table>\n",
       "</div>"
      ],
      "text/plain": [
       "   SerialNo                 ImageNo  \\\n",
       "0         1          ATM-02-80-g002   \n",
       "1         2          AJNS-8-48-g001   \n",
       "2         3        1477-7819-2-41-1   \n",
       "3         4  iranjradiol-10-99-g001   \n",
       "4         5    Tanaffos-10-072-g001   \n",
       "\n",
       "                                    Question  \\\n",
       "0                  what does thorax ct show?   \n",
       "1  where does the ct scan show the hematoma?   \n",
       "2                what does the ct scan show?   \n",
       "3             what does the mri demonstrate?   \n",
       "4   what does the ct scan of the chest show?   \n",
       "\n",
       "                                    Answer  \\\n",
       "0          regression in the infiltrations   \n",
       "1                       left parietal area   \n",
       "2  a paraesophageal and retrotracheal mass   \n",
       "3                non mass-like enhancement   \n",
       "4              minimal basilar atelectasis   \n",
       "\n",
       "                                            Q_parsed  \\\n",
       "0                     [what, does, thorax, ct, show]   \n",
       "1  [where, does, the, ct, scan, show, the, hematoma]   \n",
       "2                  [what, does, the, ct, scan, show]   \n",
       "3                [what, does, the, mri, demonstrate]   \n",
       "4  [what, does, the, ct, scan, of, the, chest, show]   \n",
       "\n",
       "                                        A_parsed  \\\n",
       "0           [regression, in, the, infiltrations]   \n",
       "1                         [left, parietal, area]   \n",
       "2  [a, paraesophageal, and, retrotracheal, mass]   \n",
       "3                  [non, mass-like, enhancement]   \n",
       "4                [minimal, basilar, atelectasis]   \n",
       "\n",
       "                                           A_Encoded  \\\n",
       "0  [1, 1032, 10, 4, 2077, 2, 0, 0, 0, 0, 0, 0, 0,...   \n",
       "1  [1, 18, 216, 86, 2, 0, 0, 0, 0, 0, 0, 0, 0, 0,...   \n",
       "2  [1, 13, 1555, 11, 3, 19, 2, 0, 0, 0, 0, 0, 0, ...   \n",
       "3  [1, 123, 3, 50, 2, 0, 0, 0, 0, 0, 0, 0, 0, 0, ...   \n",
       "4  [1, 578, 705, 1250, 2, 0, 0, 0, 0, 0, 0, 0, 0,...   \n",
       "\n",
       "                                           Q_Encoded  \n",
       "0  [1, 5, 7, 125, 8, 9, 2, 0, 0, 0, 0, 0, 0, 0, 0...  \n",
       "1  [1, 25, 7, 4, 8, 14, 9, 4, 109, 2, 0, 0, 0, 0,...  \n",
       "2  [1, 5, 7, 4, 8, 14, 9, 2, 0, 0, 0, 0, 0, 0, 0, 0]  \n",
       "3  [1, 5, 7, 4, 15, 39, 2, 0, 0, 0, 0, 0, 0, 0, 0...  \n",
       "4  [1, 5, 7, 4, 8, 14, 6, 4, 38, 9, 2, 0, 0, 0, 0...  "
      ]
     },
     "execution_count": 39,
     "metadata": {},
     "output_type": "execute_result"
    }
   ],
   "source": [
    "df_v_final.head()"
   ]
  },
  {
   "cell_type": "code",
   "execution_count": null,
   "metadata": {
    "collapsed": true
   },
   "outputs": [],
   "source": [
    "#save preprocessed training data frame\n",
    "df_final.to_pickle(\"train_df_final.pkl\")"
   ]
  },
  {
   "cell_type": "code",
   "execution_count": 22,
   "metadata": {},
   "outputs": [],
   "source": [
    "#save preprocessed test data frame\n",
    "df_v_final.to_pickle(\"test_df_v_final.pkl\")"
   ]
  },
  {
   "cell_type": "markdown",
   "metadata": {},
   "source": [
    "# Image Related"
   ]
  },
  {
   "cell_type": "code",
   "execution_count": null,
   "metadata": {
    "collapsed": true
   },
   "outputs": [],
   "source": [
    "#Take input as preprocssed images (features) and select valid rows based on above selection during training\n",
    "file = open('/home/it/8sem/AMP/image_feature_train.pkl', 'rb')\n",
    "features = pickle.load(file)\n",
    "features = np.array(features)\n",
    "features = features[valid_rows1,]\n",
    "features = features[valid_rows2,]"
   ]
  },
  {
   "cell_type": "code",
   "execution_count": null,
   "metadata": {
    "collapsed": true
   },
   "outputs": [],
   "source": [
    "pickle.dump(features, open('image_feature_train.pkl','wb'))"
   ]
  },
  {
   "cell_type": "code",
   "execution_count": 24,
   "metadata": {},
   "outputs": [],
   "source": [
    "#Take input as preprocssed images (features) and select valid rows based on above selection during testing\n",
    "file = open('/home/it/8sem/AMP/image_feature_test.pkl', 'rb')\n",
    "features = pickle.load(file)\n",
    "features = np.array(features)\n",
    "features = features[valid_rows3,]\n",
    "features = features[valid_rows4,]"
   ]
  },
  {
   "cell_type": "code",
   "execution_count": 25,
   "metadata": {
    "collapsed": true
   },
   "outputs": [],
   "source": [
    "pickle.dump(features, open('image_feature_test.pkl','wb'))"
   ]
  }
 ],
 "metadata": {
  "kernelspec": {
   "display_name": "Python 3",
   "language": "python",
   "name": "python3"
  },
  "language_info": {
   "codemirror_mode": {
    "name": "ipython",
    "version": 3
   },
   "file_extension": ".py",
   "mimetype": "text/x-python",
   "name": "python",
   "nbconvert_exporter": "python",
   "pygments_lexer": "ipython3",
   "version": "3.6.1"
  }
 },
 "nbformat": 4,
 "nbformat_minor": 2
}
